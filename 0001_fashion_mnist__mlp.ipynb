{
 "cells": [
  {
   "cell_type": "markdown",
   "metadata": {},
   "source": [
    "# Fashion MNIST"
   ]
  },
  {
   "cell_type": "code",
   "execution_count": 13,
   "metadata": {},
   "outputs": [],
   "source": [
    "import pandas as pd\n",
    "from tensorflow import keras\n",
    "import matplotlib.pyplot as plt"
   ]
  },
  {
   "cell_type": "code",
   "execution_count": 2,
   "metadata": {},
   "outputs": [],
   "source": [
    "fashion_mnist = keras.datasets.fashion_mnist\n",
    "(X_train, y_train), (X_test, y_test) = fashion_mnist.load_data()"
   ]
  },
  {
   "cell_type": "code",
   "execution_count": 3,
   "metadata": {},
   "outputs": [
    {
     "data": {
      "text/plain": [
       "((60000, 28, 28), dtype('uint8'))"
      ]
     },
     "execution_count": 3,
     "metadata": {},
     "output_type": "execute_result"
    }
   ],
   "source": [
    "X_train.shape, X_train.dtype"
   ]
  },
  {
   "cell_type": "code",
   "execution_count": 4,
   "metadata": {},
   "outputs": [],
   "source": [
    "X_train = X_train / 255.0"
   ]
  },
  {
   "cell_type": "markdown",
   "metadata": {},
   "source": [
    "For fashion MNIST, we need the list of class names to know the mapping between number back to class names"
   ]
  },
  {
   "cell_type": "code",
   "execution_count": 5,
   "metadata": {},
   "outputs": [],
   "source": [
    "class_names = [\"T-shirt/top\", \"Trouser\", \"Pullover\", \"Dress\", \"Coat\", \"Sandal\", \"Shirt\", \"Sneaker\", \"Bag\", \"Ankle boot\"]"
   ]
  },
  {
   "cell_type": "markdown",
   "metadata": {},
   "source": [
    "Classification MLP. Neural network model with two hidden layers"
   ]
  },
  {
   "cell_type": "code",
   "execution_count": 6,
   "metadata": {},
   "outputs": [
    {
     "name": "stdout",
     "output_type": "stream",
     "text": [
      "Model: \"sequential\"\n",
      "_________________________________________________________________\n",
      "Layer (type)                 Output Shape              Param #   \n",
      "=================================================================\n",
      "flatten (Flatten)            (None, 784)               0         \n",
      "_________________________________________________________________\n",
      "dense (Dense)                (None, 300)               235500    \n",
      "_________________________________________________________________\n",
      "dense_1 (Dense)              (None, 100)               30100     \n",
      "_________________________________________________________________\n",
      "dense_2 (Dense)              (None, 10)                1010      \n",
      "=================================================================\n",
      "Total params: 266,610\n",
      "Trainable params: 266,610\n",
      "Non-trainable params: 0\n",
      "_________________________________________________________________\n"
     ]
    }
   ],
   "source": [
    "# inputs= keras.layers.Input(shape=(28,28))\n",
    "# layers = keras.layers.Flatten()\n",
    "# layers = keras.layers.Dense(300, activation=\"relu\")(layers)\n",
    "# layers = keras.layers.Dense(100, activation=\"relu\")(layers)\n",
    "# layers = keras.layers.Dense(10, activation=\"softmax\")(layers)\n",
    "# model = keras.Model(inputs=inputs, outputs=layers)\n",
    "\n",
    "model = keras.models.Sequential([\n",
    "    keras.layers.Flatten(input_shape=(28,28)),\n",
    "    keras.layers.Dense(300, activation=\"relu\"),\n",
    "    keras.layers.Dense(100, activation=\"relu\"),\n",
    "    keras.layers.Dense(10, activation=\"softmax\")\n",
    "])\n",
    "model.summary()"
   ]
  },
  {
   "cell_type": "code",
   "execution_count": 7,
   "metadata": {},
   "outputs": [],
   "source": [
    "model.compile(loss=\"sparse_categorical_crossentropy\", optimizer=\"sgd\", metrics=[\"accuracy\"])"
   ]
  },
  {
   "cell_type": "code",
   "execution_count": 8,
   "metadata": {},
   "outputs": [
    {
     "name": "stdout",
     "output_type": "stream",
     "text": [
      "Train on 48000 samples, validate on 12000 samples\n",
      "Epoch 1/30\n",
      "48000/48000 [==============================] - 4s 90us/sample - loss: 0.7659 - accuracy: 0.7494 - val_loss: 0.5462 - val_accuracy: 0.8066\n",
      "Epoch 2/30\n",
      "48000/48000 [==============================] - 4s 75us/sample - loss: 0.4991 - accuracy: 0.8280 - val_loss: 0.5344 - val_accuracy: 0.8046\n",
      "Epoch 3/30\n",
      "48000/48000 [==============================] - 4s 76us/sample - loss: 0.4509 - accuracy: 0.8430 - val_loss: 0.4466 - val_accuracy: 0.8432\n",
      "Epoch 4/30\n",
      "48000/48000 [==============================] - 4s 75us/sample - loss: 0.4230 - accuracy: 0.8515 - val_loss: 0.4255 - val_accuracy: 0.8484\n",
      "Epoch 5/30\n",
      "48000/48000 [==============================] - 4s 77us/sample - loss: 0.4022 - accuracy: 0.8597 - val_loss: 0.3994 - val_accuracy: 0.8601\n",
      "Epoch 6/30\n",
      "48000/48000 [==============================] - 4s 77us/sample - loss: 0.3856 - accuracy: 0.8658 - val_loss: 0.3897 - val_accuracy: 0.8638\n",
      "Epoch 7/30\n",
      "48000/48000 [==============================] - 4s 84us/sample - loss: 0.3730 - accuracy: 0.8687 - val_loss: 0.4015 - val_accuracy: 0.8562\n",
      "Epoch 8/30\n",
      "48000/48000 [==============================] - 4s 75us/sample - loss: 0.3601 - accuracy: 0.8732 - val_loss: 0.3720 - val_accuracy: 0.8697\n",
      "Epoch 9/30\n",
      "48000/48000 [==============================] - 4s 76us/sample - loss: 0.3515 - accuracy: 0.8753 - val_loss: 0.3794 - val_accuracy: 0.8640\n",
      "Epoch 10/30\n",
      "48000/48000 [==============================] - 4s 77us/sample - loss: 0.3423 - accuracy: 0.8787 - val_loss: 0.3697 - val_accuracy: 0.8682\n",
      "Epoch 11/30\n",
      "48000/48000 [==============================] - 4s 77us/sample - loss: 0.3319 - accuracy: 0.8820 - val_loss: 0.3914 - val_accuracy: 0.8612\n",
      "Epoch 12/30\n",
      "48000/48000 [==============================] - 4s 76us/sample - loss: 0.3254 - accuracy: 0.8845 - val_loss: 0.3515 - val_accuracy: 0.8744\n",
      "Epoch 13/30\n",
      "48000/48000 [==============================] - 4s 80us/sample - loss: 0.3173 - accuracy: 0.8862 - val_loss: 0.3561 - val_accuracy: 0.8740\n",
      "Epoch 14/30\n",
      "48000/48000 [==============================] - 4s 83us/sample - loss: 0.3111 - accuracy: 0.8893 - val_loss: 0.3444 - val_accuracy: 0.8763\n",
      "Epoch 15/30\n",
      "48000/48000 [==============================] - 4s 84us/sample - loss: 0.3042 - accuracy: 0.8912 - val_loss: 0.3510 - val_accuracy: 0.8737\n",
      "Epoch 16/30\n",
      "48000/48000 [==============================] - 4s 81us/sample - loss: 0.2982 - accuracy: 0.8928 - val_loss: 0.3309 - val_accuracy: 0.8827\n",
      "Epoch 17/30\n",
      "48000/48000 [==============================] - 4s 91us/sample - loss: 0.2924 - accuracy: 0.8961 - val_loss: 0.3355 - val_accuracy: 0.8783\n",
      "Epoch 18/30\n",
      "48000/48000 [==============================] - 4s 82us/sample - loss: 0.2865 - accuracy: 0.8978 - val_loss: 0.3384 - val_accuracy: 0.8766\n",
      "Epoch 19/30\n",
      "48000/48000 [==============================] - 4s 83us/sample - loss: 0.2805 - accuracy: 0.8989 - val_loss: 0.3279 - val_accuracy: 0.8841\n",
      "Epoch 20/30\n",
      "48000/48000 [==============================] - 4s 81us/sample - loss: 0.2757 - accuracy: 0.9003 - val_loss: 0.3316 - val_accuracy: 0.8830\n",
      "Epoch 21/30\n",
      "48000/48000 [==============================] - 4s 81us/sample - loss: 0.2707 - accuracy: 0.9035 - val_loss: 0.3493 - val_accuracy: 0.8728\n",
      "Epoch 22/30\n",
      "48000/48000 [==============================] - 4s 83us/sample - loss: 0.2666 - accuracy: 0.9046 - val_loss: 0.3250 - val_accuracy: 0.8834\n",
      "Epoch 23/30\n",
      "48000/48000 [==============================] - 4s 81us/sample - loss: 0.2606 - accuracy: 0.9063 - val_loss: 0.3239 - val_accuracy: 0.8853\n",
      "Epoch 24/30\n",
      "48000/48000 [==============================] - 4s 80us/sample - loss: 0.2563 - accuracy: 0.9084 - val_loss: 0.3191 - val_accuracy: 0.8874\n",
      "Epoch 25/30\n",
      "48000/48000 [==============================] - 4s 82us/sample - loss: 0.2522 - accuracy: 0.9098 - val_loss: 0.3185 - val_accuracy: 0.8863\n",
      "Epoch 26/30\n",
      "48000/48000 [==============================] - 4s 85us/sample - loss: 0.2478 - accuracy: 0.9122 - val_loss: 0.3268 - val_accuracy: 0.8841\n",
      "Epoch 27/30\n",
      "48000/48000 [==============================] - 4s 84us/sample - loss: 0.2434 - accuracy: 0.9136 - val_loss: 0.3197 - val_accuracy: 0.8864\n",
      "Epoch 28/30\n",
      "48000/48000 [==============================] - 4s 84us/sample - loss: 0.2405 - accuracy: 0.9143 - val_loss: 0.3157 - val_accuracy: 0.8888\n",
      "Epoch 29/30\n",
      "48000/48000 [==============================] - 4s 84us/sample - loss: 0.2351 - accuracy: 0.9156 - val_loss: 0.3118 - val_accuracy: 0.8882\n",
      "Epoch 30/30\n",
      "48000/48000 [==============================] - 4s 81us/sample - loss: 0.2319 - accuracy: 0.9168 - val_loss: 0.3229 - val_accuracy: 0.8872\n"
     ]
    }
   ],
   "source": [
    "history = model.fit(X_train, y_train, epochs=30, validation_split=0.2)"
   ]
  },
  {
   "cell_type": "code",
   "execution_count": 20,
   "metadata": {},
   "outputs": [
    {
     "data": {
      "image/png": "[encoded data removed]",
      "text/plain": [
       "<Figure size 576x360 with 1 Axes>"
      ]
     },
     "metadata": {
      "needs_background": "light"
     },
     "output_type": "display_data"
    }
   ],
   "source": [
    "pd.DataFrame(history.history).plot(figsize=(8,5))\n",
    "plt.grid(True)\n",
    "plt.gca().set_ylim(0, 1) # set the vertical range to [0-1]\n",
    "plt.show()"
   ]
  },
  {
   "cell_type": "code",
   "execution_count": null,
   "metadata": {},
   "outputs": [],
   "source": []
  }
 ],
 "metadata": {
  "kernelspec": {
   "display_name": "Python 3",
   "language": "python",
   "name": "python3"
  },
  "language_info": {
   "codemirror_mode": {
    "name": "ipython",
    "version": 3
   },
   "file_extension": ".py",
   "mimetype": "text/x-python",
   "name": "python",
   "nbconvert_exporter": "python",
   "pygments_lexer": "ipython3",
   "version": "3.7.0"
  }
 },
 "nbformat": 4,
 "nbformat_minor": 2
}
