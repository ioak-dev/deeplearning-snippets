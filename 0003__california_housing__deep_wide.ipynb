{
 "cells": [
  {
   "cell_type": "code",
   "execution_count": 1,
   "metadata": {},
   "outputs": [],
   "source": [
    "from sklearn.datasets import fetch_california_housing\n",
    "from sklearn.model_selection import train_test_split\n",
    "from sklearn.preprocessing import StandardScaler\n",
    "from tensorflow import keras"
   ]
  },
  {
   "cell_type": "code",
   "execution_count": 2,
   "metadata": {},
   "outputs": [],
   "source": [
    "housing = fetch_california_housing()\n",
    "X_train, X_test, y_train, y_test = train_test_split(housing.data, housing.target)"
   ]
  },
  {
   "cell_type": "code",
   "execution_count": 3,
   "metadata": {},
   "outputs": [],
   "source": [
    "scaler = StandardScaler()\n",
    "X_train = scaler.fit_transform(X_train)\n",
    "X_test = scaler.transform(X_test)"
   ]
  },
  {
   "cell_type": "markdown",
   "metadata": {},
   "source": [
    "###  Passing the features through deep and wide channels\n",
    "#### This allows the neural network to learn both deep patterns (using deep path) and simple rules (through the short path)\n",
    "#### In contrast, a regular MLP forces all the data to flow through the full stack of layers; thus, simple patterns in the data may end up being distorted by this sequence of transformations"
   ]
  },
  {
   "cell_type": "code",
   "execution_count": 4,
   "metadata": {},
   "outputs": [
    {
     "name": "stdout",
     "output_type": "stream",
     "text": [
      "Train on 12384 samples, validate on 3096 samples\n",
      "Epoch 1/20\n",
      "12384/12384 [==============================] - 0s 40us/sample - loss: 1.6435 - val_loss: 0.7773\n",
      "Epoch 2/20\n",
      "12384/12384 [==============================] - 0s 27us/sample - loss: 0.7673 - val_loss: 0.7218\n",
      "Epoch 3/20\n",
      "12384/12384 [==============================] - 0s 26us/sample - loss: 0.8438 - val_loss: 0.6746\n",
      "Epoch 4/20\n",
      "12384/12384 [==============================] - 0s 24us/sample - loss: 0.7026 - val_loss: 0.6325\n",
      "Epoch 5/20\n",
      "12384/12384 [==============================] - 0s 25us/sample - loss: 0.7057 - val_loss: 0.5955\n",
      "Epoch 6/20\n",
      "12384/12384 [==============================] - 0s 25us/sample - loss: 0.5956 - val_loss: 0.5536\n",
      "Epoch 7/20\n",
      "12384/12384 [==============================] - 0s 24us/sample - loss: 0.5734 - val_loss: 0.5444\n",
      "Epoch 8/20\n",
      "12384/12384 [==============================] - 0s 26us/sample - loss: 0.5333 - val_loss: 0.5221\n",
      "Epoch 9/20\n",
      "12384/12384 [==============================] - 0s 25us/sample - loss: 0.5288 - val_loss: 0.5108\n",
      "Epoch 10/20\n",
      "12384/12384 [==============================] - 0s 24us/sample - loss: 0.5048 - val_loss: 0.4970\n",
      "Epoch 11/20\n",
      "12384/12384 [==============================] - 0s 25us/sample - loss: 0.4951 - val_loss: 0.4930\n",
      "Epoch 12/20\n",
      "12384/12384 [==============================] - 0s 25us/sample - loss: 0.4857 - val_loss: 0.4829\n",
      "Epoch 13/20\n",
      "12384/12384 [==============================] - 0s 34us/sample - loss: 0.4842 - val_loss: 0.4894\n",
      "Epoch 14/20\n",
      "12384/12384 [==============================] - 0s 29us/sample - loss: 0.4755 - val_loss: 0.4717\n",
      "Epoch 15/20\n",
      "12384/12384 [==============================] - 0s 34us/sample - loss: 0.4718 - val_loss: 0.4701\n",
      "Epoch 16/20\n",
      "12384/12384 [==============================] - 0s 24us/sample - loss: 0.4627 - val_loss: 0.4604\n",
      "Epoch 17/20\n",
      "12384/12384 [==============================] - 0s 25us/sample - loss: 0.4582 - val_loss: 0.4582\n",
      "Epoch 18/20\n",
      "12384/12384 [==============================] - 0s 25us/sample - loss: 0.4512 - val_loss: 0.4517\n",
      "Epoch 19/20\n",
      "12384/12384 [==============================] - 0s 24us/sample - loss: 0.4475 - val_loss: 0.4489\n",
      "Epoch 20/20\n",
      "12384/12384 [==============================] - 0s 24us/sample - loss: 0.4419 - val_loss: 0.4439\n",
      "5160/5160 [==============================] - 0s 13us/sample - loss: 0.4496\n",
      "[1.057 1.571 1.667] [[1.0268555]\n",
      " [2.076134 ]\n",
      " [1.8810451]]\n"
     ]
    }
   ],
   "source": [
    "input_ = keras.layers.Input(shape=X_train.shape[1:])\n",
    "hidden = keras.layers.Dense(30, activation=\"relu\")(input_)\n",
    "hidden = keras.layers.Dense(30, activation=\"relu\")(hidden)\n",
    "concat = keras.layers.Concatenate()([input_, hidden])\n",
    "output = keras.layers.Dense(1)(concat)\n",
    "model = keras.Model(inputs=[input_], outputs=[output])\n",
    "\n",
    "model.compile(loss=\"mean_squared_error\", optimizer=\"sgd\")\n",
    "\n",
    "history = model.fit(X_train, y_train, epochs=20, validation_split=0.2)\n",
    "\n",
    "mse_test = model.evaluate(X_test, y_test)\n",
    "\n",
    "X_new = X_test[:3] #pretend these are new instances to do some testing\n",
    "y_pred = model.predict(X_new)\n",
    "print(y_test[:3], y_pred)"
   ]
  },
  {
   "cell_type": "markdown",
   "metadata": {},
   "source": [
    "### Handling multiple inputs - one set of features through the deep channel and the other through wide channel (possibly overlapping set of features)"
   ]
  },
  {
   "cell_type": "code",
   "execution_count": 5,
   "metadata": {},
   "outputs": [
    {
     "name": "stdout",
     "output_type": "stream",
     "text": [
      "Train on 12384 samples, validate on 3096 samples\n",
      "Epoch 1/20\n",
      "12384/12384 [==============================] - 0s 37us/sample - loss: 1.6736 - val_loss: 0.8682\n",
      "Epoch 2/20\n",
      "12384/12384 [==============================] - 0s 28us/sample - loss: 0.7824 - val_loss: 0.7403\n",
      "Epoch 3/20\n",
      "12384/12384 [==============================] - 0s 26us/sample - loss: 0.6973 - val_loss: 0.6808\n",
      "Epoch 4/20\n",
      "12384/12384 [==============================] - 0s 25us/sample - loss: 0.6498 - val_loss: 0.6376\n",
      "Epoch 5/20\n",
      "12384/12384 [==============================] - 0s 25us/sample - loss: 0.6152 - val_loss: 0.6063\n",
      "Epoch 6/20\n",
      "12384/12384 [==============================] - 0s 26us/sample - loss: 0.5887 - val_loss: 0.5803\n",
      "Epoch 7/20\n",
      "12384/12384 [==============================] - 0s 26us/sample - loss: 0.5671 - val_loss: 0.5579\n",
      "Epoch 8/20\n",
      "12384/12384 [==============================] - 0s 26us/sample - loss: 0.5470 - val_loss: 0.5387\n",
      "Epoch 9/20\n",
      "12384/12384 [==============================] - 0s 26us/sample - loss: 0.5335 - val_loss: 0.5242\n",
      "Epoch 10/20\n",
      "12384/12384 [==============================] - 0s 26us/sample - loss: 0.5190 - val_loss: 0.5110\n",
      "Epoch 11/20\n",
      "12384/12384 [==============================] - 0s 25us/sample - loss: 0.5069 - val_loss: 0.5020\n",
      "Epoch 12/20\n",
      "12384/12384 [==============================] - 0s 25us/sample - loss: 0.4975 - val_loss: 0.4903\n",
      "Epoch 13/20\n",
      "12384/12384 [==============================] - 0s 26us/sample - loss: 0.4909 - val_loss: 0.4813\n",
      "Epoch 14/20\n",
      "12384/12384 [==============================] - 0s 26us/sample - loss: 0.4816 - val_loss: 0.4740\n",
      "Epoch 15/20\n",
      "12384/12384 [==============================] - 0s 26us/sample - loss: 0.4735 - val_loss: 0.4668\n",
      "Epoch 16/20\n",
      "12384/12384 [==============================] - 0s 26us/sample - loss: 0.4675 - val_loss: 0.4616\n",
      "Epoch 17/20\n",
      "12384/12384 [==============================] - 0s 25us/sample - loss: 0.4617 - val_loss: 0.4566\n",
      "Epoch 18/20\n",
      "12384/12384 [==============================] - 0s 25us/sample - loss: 0.4576 - val_loss: 0.4528\n",
      "Epoch 19/20\n",
      "12384/12384 [==============================] - 0s 25us/sample - loss: 0.4543 - val_loss: 0.4488\n",
      "Epoch 20/20\n",
      "12384/12384 [==============================] - 0s 25us/sample - loss: 0.4497 - val_loss: 0.4451\n",
      "5160/5160 [==============================] - 0s 13us/sample - loss: 0.4598\n",
      "[1.057 1.571 1.667] [[1.1013918]\n",
      " [2.0361133]\n",
      " [1.7996577]]\n"
     ]
    }
   ],
   "source": [
    "input_A = keras.layers.Input(shape=[5], name=\"wide_input\")\n",
    "input_B = keras.layers.Input(shape=[6], name=\"deep_input\")\n",
    "hidden = keras.layers.Dense(30, activation=\"relu\")(input_B)\n",
    "hidden = keras.layers.Dense(30, activation=\"relu\")(hidden)\n",
    "concat = keras.layers.Concatenate()([input_A, hidden])\n",
    "output = keras.layers.Dense(1)(concat)\n",
    "model = keras.Model(inputs=[input_A, input_B], outputs=[output])\n",
    "\n",
    "model.compile(loss=\"mean_squared_error\", optimizer=\"sgd\")\n",
    "\n",
    "history = model.fit((X_train[:, :5], X_train[:, 2:]), y_train, epochs=20, validation_split=0.2)\n",
    "\n",
    "mse_test = model.evaluate((X_test[:, :5], X_test[:, 2:]), y_test)\n",
    "\n",
    "X_new = X_test[:3] #pretend these are new instances to do some testing\n",
    "y_pred = model.predict((X_new[:, :5], X_new[:, 2:]))\n",
    "print(y_test[:3], y_pred)"
   ]
  },
  {
   "cell_type": "markdown",
   "metadata": {},
   "source": [
    "### Handling multiple outputs; In this case to add an auxillary output for regularization\n",
    "#### Each output needs its own loss function. So, we pass a list of losses\n",
    "#### By default, keras will compute all these losses and simply add them up to get the final loss used for training. We care musch more about the main output then about the aux output. So, we give more weight to output's loss than aux output's loss"
   ]
  },
  {
   "cell_type": "code",
   "execution_count": 6,
   "metadata": {},
   "outputs": [
    {
     "name": "stdout",
     "output_type": "stream",
     "text": [
      "Train on 12384 samples, validate on 3096 samples\n",
      "Epoch 1/20\n",
      "12384/12384 [==============================] - 1s 55us/sample - loss: 2.7194 - main_output_loss: 2.4928 - aux_output_loss: 4.7591 - val_loss: 1.3870 - val_main_output_loss: 1.1672 - val_aux_output_loss: 3.3646\n",
      "Epoch 2/20\n",
      "12384/12384 [==============================] - 0s 31us/sample - loss: 1.1763 - main_output_loss: 0.9984 - aux_output_loss: 2.7778 - val_loss: 0.9468 - val_main_output_loss: 0.8121 - val_aux_output_loss: 2.1591\n",
      "Epoch 3/20\n",
      "12384/12384 [==============================] - 0s 29us/sample - loss: 0.8445 - main_output_loss: 0.7178 - aux_output_loss: 1.9853 - val_loss: 0.7699 - val_main_output_loss: 0.6691 - val_aux_output_loss: 1.6772\n",
      "Epoch 4/20\n",
      "12384/12384 [==============================] - 0s 29us/sample - loss: 0.7407 - main_output_loss: 0.6377 - aux_output_loss: 1.6684 - val_loss: 0.7079 - val_main_output_loss: 0.6212 - val_aux_output_loss: 1.4880\n",
      "Epoch 5/20\n",
      "12384/12384 [==============================] - 0s 29us/sample - loss: 0.6912 - main_output_loss: 0.5987 - aux_output_loss: 1.5232 - val_loss: 0.6681 - val_main_output_loss: 0.5873 - val_aux_output_loss: 1.3951\n",
      "Epoch 6/20\n",
      "12384/12384 [==============================] - 0s 29us/sample - loss: 0.6571 - main_output_loss: 0.5702 - aux_output_loss: 1.4393 - val_loss: 0.6437 - val_main_output_loss: 0.5670 - val_aux_output_loss: 1.3345\n",
      "Epoch 7/20\n",
      "12384/12384 [==============================] - 0s 30us/sample - loss: 0.6331 - main_output_loss: 0.5501 - aux_output_loss: 1.3797 - val_loss: 0.6174 - val_main_output_loss: 0.5429 - val_aux_output_loss: 1.2878\n",
      "Epoch 8/20\n",
      "12384/12384 [==============================] - 0s 32us/sample - loss: 0.6125 - main_output_loss: 0.5326 - aux_output_loss: 1.3321 - val_loss: 0.5976 - val_main_output_loss: 0.5253 - val_aux_output_loss: 1.2477\n",
      "Epoch 9/20\n",
      "12384/12384 [==============================] - 0s 29us/sample - loss: 0.5976 - main_output_loss: 0.5209 - aux_output_loss: 1.2886 - val_loss: 0.5815 - val_main_output_loss: 0.5116 - val_aux_output_loss: 1.2099\n",
      "Epoch 10/20\n",
      "12384/12384 [==============================] - 0s 29us/sample - loss: 0.5813 - main_output_loss: 0.5071 - aux_output_loss: 1.2491 - val_loss: 0.5666 - val_main_output_loss: 0.4990 - val_aux_output_loss: 1.1755\n",
      "Epoch 11/20\n",
      "12384/12384 [==============================] - 0s 29us/sample - loss: 0.5682 - main_output_loss: 0.4964 - aux_output_loss: 1.2141 - val_loss: 0.5534 - val_main_output_loss: 0.4879 - val_aux_output_loss: 1.1431\n",
      "Epoch 12/20\n",
      "12384/12384 [==============================] - 0s 29us/sample - loss: 0.5570 - main_output_loss: 0.4878 - aux_output_loss: 1.1799 - val_loss: 0.5429 - val_main_output_loss: 0.4796 - val_aux_output_loss: 1.1129\n",
      "Epoch 13/20\n",
      "12384/12384 [==============================] - 0s 33us/sample - loss: 0.5467 - main_output_loss: 0.4797 - aux_output_loss: 1.1489 - val_loss: 0.5338 - val_main_output_loss: 0.4726 - val_aux_output_loss: 1.0848\n",
      "Epoch 14/20\n",
      "12384/12384 [==============================] - 0s 29us/sample - loss: 0.5375 - main_output_loss: 0.4728 - aux_output_loss: 1.1193 - val_loss: 0.5252 - val_main_output_loss: 0.4659 - val_aux_output_loss: 1.0587\n",
      "Epoch 15/20\n",
      "12384/12384 [==============================] - 0s 32us/sample - loss: 0.5301 - main_output_loss: 0.4675 - aux_output_loss: 1.0929 - val_loss: 0.5164 - val_main_output_loss: 0.4591 - val_aux_output_loss: 1.0325\n",
      "Epoch 16/20\n",
      "12384/12384 [==============================] - 0s 29us/sample - loss: 0.5218 - main_output_loss: 0.4613 - aux_output_loss: 1.0665 - val_loss: 0.5081 - val_main_output_loss: 0.4527 - val_aux_output_loss: 1.0072\n",
      "Epoch 17/20\n",
      "12384/12384 [==============================] - 0s 29us/sample - loss: 0.5159 - main_output_loss: 0.4577 - aux_output_loss: 1.0398 - val_loss: 0.5016 - val_main_output_loss: 0.4481 - val_aux_output_loss: 0.9835\n",
      "Epoch 18/20\n",
      "12384/12384 [==============================] - 0s 31us/sample - loss: 0.5086 - main_output_loss: 0.4522 - aux_output_loss: 1.0159 - val_loss: 0.4962 - val_main_output_loss: 0.4446 - val_aux_output_loss: 0.9613\n",
      "Epoch 19/20\n",
      "12384/12384 [==============================] - 0s 29us/sample - loss: 0.5027 - main_output_loss: 0.4482 - aux_output_loss: 0.9926 - val_loss: 0.4914 - val_main_output_loss: 0.4415 - val_aux_output_loss: 0.9403\n",
      "Epoch 20/20\n",
      "12384/12384 [==============================] - 0s 31us/sample - loss: 0.4980 - main_output_loss: 0.4455 - aux_output_loss: 0.9707 - val_loss: 0.4853 - val_main_output_loss: 0.4371 - val_aux_output_loss: 0.9194\n",
      "5160/5160 [==============================] - 0s 17us/sample - loss: 0.5063 - main_output_loss: 0.4533 - aux_output_loss: 0.9828\n",
      "[1.057 1.571 1.667] [array([[0.9421934],\n",
      "       [2.065899 ],\n",
      "       [1.8766991]], dtype=float32), array([[1.5077715],\n",
      "       [2.1633096],\n",
      "       [2.8019435]], dtype=float32)]\n"
     ]
    }
   ],
   "source": [
    "input_A = keras.layers.Input(shape=[5], name=\"wide_input\")\n",
    "input_B = keras.layers.Input(shape=[6], name=\"deep_input\")\n",
    "hidden = keras.layers.Dense(30, activation=\"relu\")(input_B)\n",
    "hidden = keras.layers.Dense(30, activation=\"relu\")(hidden)\n",
    "concat = keras.layers.Concatenate()([input_A, hidden])\n",
    "output = keras.layers.Dense(1, name=\"main_output\")(concat)\n",
    "aux_output = keras.layers.Dense(1, name=\"aux_output\")(hidden)\n",
    "model = keras.Model(inputs=[input_A, input_B], outputs=[output, aux_output])\n",
    "\n",
    "model.compile(loss=[\"mse\", \"mse\"], loss_weights=[0.9, 0.1], optimizer=\"sgd\")\n",
    "\n",
    "history = model.fit((X_train[:, :5], X_train[:, 2:]), (y_train, y_train), epochs=20, validation_split=0.2)\n",
    "\n",
    "mse_test = model.evaluate((X_test[:, :5], X_test[:, 2:]), (y_test, y_test))\n",
    "\n",
    "X_new = X_test[:3] #pretend these are new instances to do some testing\n",
    "y_pred = model.predict((X_new[:, :5], X_new[:, 2:]))\n",
    "print(y_test[:3], y_pred)"
   ]
  },
  {
   "cell_type": "code",
   "execution_count": null,
   "metadata": {},
   "outputs": [],
   "source": []
  }
 ],
 "metadata": {
  "kernelspec": {
   "display_name": "Python 3",
   "language": "python",
   "name": "python3"
  },
  "language_info": {
   "codemirror_mode": {
    "name": "ipython",
    "version": 3
   },
   "file_extension": ".py",
   "mimetype": "text/x-python",
   "name": "python",
   "nbconvert_exporter": "python",
   "pygments_lexer": "ipython3",
   "version": "3.7.0"
  }
 },
 "nbformat": 4,
 "nbformat_minor": 2
}
