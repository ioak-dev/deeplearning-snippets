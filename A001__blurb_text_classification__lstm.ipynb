{
 "cells": [
  {
   "cell_type": "code",
   "execution_count": 1,
   "metadata": {},
   "outputs": [],
   "source": [
    "import pandas as pd\n",
    "import numpy as np\n",
    "import matplotlib.pyplot as plt\n",
    "from sklearn.model_selection import train_test_split\n",
    "from sklearn.preprocessing import LabelEncoder\n",
    "from tensorflow.keras.models import Model\n",
    "from tensorflow.keras.layers import LSTM, Activation, Dense, Dropout, Input, Embedding\n",
    "from tensorflow.keras.optimizers import RMSprop\n",
    "from tensorflow.keras.preprocessing.text import Tokenizer\n",
    "from tensorflow.keras.preprocessing import sequence\n",
    "from tensorflow.keras.utils import to_categorical\n",
    "from tensorflow.keras.callbacks import EarlyStopping"
   ]
  },
  {
   "cell_type": "code",
   "execution_count": 2,
   "metadata": {},
   "outputs": [],
   "source": [
    "df = pd.read_csv('blurb_top19.csv',delimiter=',',encoding='latin-1')\n",
    "label_map = {}\n",
    "index = 0\n",
    "for label_item in df.label:\n",
    "    try:\n",
    "        label_map[label_item]\n",
    "    except KeyError:\n",
    "        label_map[label_item] = index\n",
    "        index = index + 1\n",
    "df.replace(label_map, inplace=True)"
   ]
  },
  {
   "cell_type": "code",
   "execution_count": 3,
   "metadata": {},
   "outputs": [],
   "source": [
    "train_df, test_df = train_test_split(df, train_size=0.8, stratify=df['label'])\n",
    "X_train = train_df['text']\n",
    "X_test = test_df['text']\n",
    "y_train = train_df['label']\n",
    "y_test = test_df['label']"
   ]
  },
  {
   "cell_type": "code",
   "execution_count": 4,
   "metadata": {},
   "outputs": [],
   "source": [
    "le = LabelEncoder()\n",
    "y_train = le.fit_transform(y_train).reshape(-1,1)\n",
    "y_test = le.fit_transform(y_test).reshape(-1,1)"
   ]
  },
  {
   "cell_type": "code",
   "execution_count": 5,
   "metadata": {},
   "outputs": [],
   "source": [
    "max_words = 10000\n",
    "max_len = 150\n",
    "tok = Tokenizer(num_words=max_words)\n",
    "tok.fit_on_texts(X_train)\n",
    "sequences = tok.texts_to_sequences(X_train)\n",
    "sequences_matrix = sequence.pad_sequences(sequences,maxlen=max_len)"
   ]
  },
  {
   "cell_type": "code",
   "execution_count": 6,
   "metadata": {},
   "outputs": [],
   "source": [
    "def RNN():\n",
    "    inputs = Input(name='inputs',shape=[max_len])\n",
    "    layer = Embedding(max_words,50,input_length=max_len)(inputs)\n",
    "    layer = LSTM(64)(layer)\n",
    "    layer = Dense(256,name='FC1')(layer)\n",
    "    layer = Activation('relu')(layer)\n",
    "    layer = Dropout(0.5)(layer)\n",
    "    layer = Dense(18,name='out_layer')(layer)\n",
    "    layer = Activation('sigmoid')(layer)\n",
    "    model = Model(inputs=inputs,outputs=layer)\n",
    "    return model"
   ]
  },
  {
   "cell_type": "code",
   "execution_count": 7,
   "metadata": {},
   "outputs": [
    {
     "name": "stdout",
     "output_type": "stream",
     "text": [
      "Model: \"model\"\n",
      "_________________________________________________________________\n",
      "Layer (type)                 Output Shape              Param #   \n",
      "=================================================================\n",
      "inputs (InputLayer)          [(None, 150)]             0         \n",
      "_________________________________________________________________\n",
      "embedding (Embedding)        (None, 150, 50)           500000    \n",
      "_________________________________________________________________\n",
      "unified_lstm (UnifiedLSTM)   (None, 64)                29440     \n",
      "_________________________________________________________________\n",
      "FC1 (Dense)                  (None, 256)               16640     \n",
      "_________________________________________________________________\n",
      "activation (Activation)      (None, 256)               0         \n",
      "_________________________________________________________________\n",
      "dropout (Dropout)            (None, 256)               0         \n",
      "_________________________________________________________________\n",
      "out_layer (Dense)            (None, 18)                4626      \n",
      "_________________________________________________________________\n",
      "activation_1 (Activation)    (None, 18)                0         \n",
      "=================================================================\n",
      "Total params: 550,706\n",
      "Trainable params: 550,706\n",
      "Non-trainable params: 0\n",
      "_________________________________________________________________\n"
     ]
    }
   ],
   "source": [
    "model = RNN()\n",
    "model.summary()\n",
    "model.compile(loss='sparse_categorical_crossentropy',optimizer=RMSprop(),metrics=['accuracy'])"
   ]
  },
  {
   "cell_type": "code",
   "execution_count": 8,
   "metadata": {},
   "outputs": [
    {
     "name": "stdout",
     "output_type": "stream",
     "text": [
      "Train on 26173 samples, validate on 6544 samples\n",
      "Epoch 1/10\n",
      "26173/26173 [==============================] - 34s 1ms/sample - loss: 2.4782 - accuracy: 0.1416 - val_loss: 2.3335 - val_accuracy: 0.1754\n",
      "Epoch 2/10\n",
      "26173/26173 [==============================] - 28s 1ms/sample - loss: 2.1539 - accuracy: 0.1925 - val_loss: 2.0530 - val_accuracy: 0.2028\n",
      "Epoch 3/10\n",
      "26173/26173 [==============================] - 27s 1ms/sample - loss: 1.9378 - accuracy: 0.2781 - val_loss: 1.9478 - val_accuracy: 0.2937\n",
      "Epoch 4/10\n",
      "26173/26173 [==============================] - 27s 1ms/sample - loss: 1.7330 - accuracy: 0.3530 - val_loss: 1.7885 - val_accuracy: 0.3545\n",
      "Epoch 5/10\n",
      "26173/26173 [==============================] - 27s 1ms/sample - loss: 1.5187 - accuracy: 0.4500 - val_loss: 1.5825 - val_accuracy: 0.4542\n",
      "Epoch 6/10\n",
      "26173/26173 [==============================] - 27s 1ms/sample - loss: 1.3066 - accuracy: 0.5270 - val_loss: 1.5236 - val_accuracy: 0.4892\n",
      "Epoch 7/10\n",
      "26173/26173 [==============================] - 27s 1ms/sample - loss: 1.1523 - accuracy: 0.5777 - val_loss: 1.4205 - val_accuracy: 0.5303\n",
      "Epoch 8/10\n",
      "26173/26173 [==============================] - 28s 1ms/sample - loss: 1.0331 - accuracy: 0.6234 - val_loss: 1.4446 - val_accuracy: 0.5287\n",
      "Epoch 9/10\n",
      "26173/26173 [==============================] - 28s 1ms/sample - loss: 0.9265 - accuracy: 0.6733 - val_loss: 1.8212 - val_accuracy: 0.5089\n",
      "Epoch 10/10\n",
      "26173/26173 [==============================] - 28s 1ms/sample - loss: 0.8047 - accuracy: 0.7283 - val_loss: 1.4907 - val_accuracy: 0.5869\n"
     ]
    },
    {
     "data": {
      "text/plain": [
       "<tensorflow.python.keras.callbacks.History at 0x18c39b2db70>"
      ]
     },
     "execution_count": 8,
     "metadata": {},
     "output_type": "execute_result"
    }
   ],
   "source": [
    "model.fit(sequences_matrix,y_train,batch_size=128,epochs=10,\n",
    "          validation_split=0.2)"
   ]
  },
  {
   "cell_type": "code",
   "execution_count": null,
   "metadata": {},
   "outputs": [],
   "source": []
  },
  {
   "cell_type": "code",
   "execution_count": null,
   "metadata": {},
   "outputs": [],
   "source": []
  }
 ],
 "metadata": {
  "kernelspec": {
   "display_name": "Python 3",
   "language": "python",
   "name": "python3"
  },
  "language_info": {
   "codemirror_mode": {
    "name": "ipython",
    "version": 3
   },
   "file_extension": ".py",
   "mimetype": "text/x-python",
   "name": "python",
   "nbconvert_exporter": "python",
   "pygments_lexer": "ipython3",
   "version": "3.7.0"
  }
 },
 "nbformat": 4,
 "nbformat_minor": 2
}
