{
 "cells": [
  {
   "cell_type": "code",
   "execution_count": 1,
   "metadata": {},
   "outputs": [],
   "source": [
    "from sklearn.datasets import fetch_california_housing\n",
    "from sklearn.model_selection import train_test_split\n",
    "from sklearn.preprocessing import StandardScaler\n",
    "from tensorflow import keras"
   ]
  },
  {
   "cell_type": "code",
   "execution_count": 2,
   "metadata": {},
   "outputs": [],
   "source": [
    "housing = fetch_california_housing()\n",
    "X_train, X_test, y_train, y_test = train_test_split(housing.data, housing.target)"
   ]
  },
  {
   "cell_type": "code",
   "execution_count": 3,
   "metadata": {},
   "outputs": [],
   "source": [
    "scaler = StandardScaler()\n",
    "X_train = scaler.fit_transform(X_train)\n",
    "X_test = scaler.transform(X_test)"
   ]
  },
  {
   "cell_type": "markdown",
   "metadata": {},
   "source": [
    "###  Passing the features through deep and wide channels\n",
    "#### This allows the neural network to learn both deep patterns (using deep path) and simple rules (through the short path)\n",
    "#### In contrast, a regular MLP forces all the data to flow through the full stack of layers; thus, simple patterns in the data may end up being distorted by this sequence of transformations"
   ]
  },
  {
   "cell_type": "code",
   "execution_count": 4,
   "metadata": {},
   "outputs": [
    {
     "name": "stdout",
     "output_type": "stream",
     "text": [
      "Train on 12384 samples, validate on 3096 samples\n",
      "Epoch 1/20\n",
      "12384/12384 [==============================] - 1s 42us/sample - loss: 2.2508 - val_loss: 0.9225\n",
      "Epoch 2/20\n",
      "12384/12384 [==============================] - 0s 27us/sample - loss: 0.8059 - val_loss: 0.7402\n",
      "Epoch 3/20\n",
      "12384/12384 [==============================] - 0s 25us/sample - loss: 0.6978 - val_loss: 0.6868\n",
      "Epoch 4/20\n",
      "12384/12384 [==============================] - 0s 25us/sample - loss: 0.6514 - val_loss: 0.6496\n",
      "Epoch 5/20\n",
      "12384/12384 [==============================] - 0s 24us/sample - loss: 0.6157 - val_loss: 0.6254\n",
      "Epoch 6/20\n",
      "12384/12384 [==============================] - 0s 26us/sample - loss: 0.5971 - val_loss: 0.6042\n",
      "Epoch 7/20\n",
      "12384/12384 [==============================] - 0s 24us/sample - loss: 0.5770 - val_loss: 0.5878\n",
      "Epoch 8/20\n",
      "12384/12384 [==============================] - 0s 24us/sample - loss: 0.5635 - val_loss: 0.5743\n",
      "Epoch 9/20\n",
      "12384/12384 [==============================] - 0s 26us/sample - loss: 0.5502 - val_loss: 0.5688\n",
      "Epoch 10/20\n",
      "12384/12384 [==============================] - 0s 29us/sample - loss: 0.5419 - val_loss: 0.5541\n",
      "Epoch 11/20\n",
      "12384/12384 [==============================] - 0s 26us/sample - loss: 0.5309 - val_loss: 0.5451\n",
      "Epoch 12/20\n",
      "12384/12384 [==============================] - 0s 26us/sample - loss: 0.5241 - val_loss: 0.5350\n",
      "Epoch 13/20\n",
      "12384/12384 [==============================] - 0s 25us/sample - loss: 0.5165 - val_loss: 0.5263\n",
      "Epoch 14/20\n",
      "12384/12384 [==============================] - 0s 25us/sample - loss: 0.5093 - val_loss: 0.5230\n",
      "Epoch 15/20\n",
      "12384/12384 [==============================] - 0s 24us/sample - loss: 0.5036 - val_loss: 0.5147\n",
      "Epoch 16/20\n",
      "12384/12384 [==============================] - 0s 25us/sample - loss: 0.4980 - val_loss: 0.5085\n",
      "Epoch 17/20\n",
      "12384/12384 [==============================] - 0s 25us/sample - loss: 0.4942 - val_loss: 0.5033\n",
      "Epoch 18/20\n",
      "12384/12384 [==============================] - 0s 25us/sample - loss: 0.4899 - val_loss: 0.4981\n",
      "Epoch 19/20\n",
      "12384/12384 [==============================] - 0s 25us/sample - loss: 0.4864 - val_loss: 0.4940\n",
      "Epoch 20/20\n",
      "12384/12384 [==============================] - 0s 25us/sample - loss: 0.4828 - val_loss: 0.4909\n",
      "5160/5160 [==============================] - 0s 13us/sample - loss: 0.4558\n",
      "[5.00001 1.343   2.867  ] [[5.1163735]\n",
      " [1.6169055]\n",
      " [2.416162 ]]\n"
     ]
    }
   ],
   "source": [
    "input_ = keras.layers.Input(shape=X_train.shape[1:])\n",
    "hidden = keras.layers.Dense(30, activation=\"relu\")(input_)\n",
    "hidden = keras.layers.Dense(30, activation=\"relu\")(hidden)\n",
    "concat = keras.layers.Concatenate()([input_, hidden])\n",
    "output = keras.layers.Dense(1)(concat)\n",
    "model = keras.Model(inputs=[input_], outputs=[output])\n",
    "\n",
    "model.compile(loss=\"mean_squared_error\", optimizer=\"sgd\")\n",
    "\n",
    "history = model.fit(X_train, y_train, epochs=20, validation_split=0.2)\n",
    "\n",
    "mse_test = model.evaluate(X_test, y_test)\n",
    "\n",
    "X_new = X_test[:3] #pretend these are new instances to do some testing\n",
    "y_pred = model.predict(X_new)\n",
    "print(y_test[:3], y_pred)"
   ]
  },
  {
   "cell_type": "markdown",
   "metadata": {},
   "source": [
    "### Handling multiple inputs - one set of features through the deep channel and the other through wide channel (possibly overlapping set of features)"
   ]
  },
  {
   "cell_type": "code",
   "execution_count": 5,
   "metadata": {},
   "outputs": [],
   "source": [
    "# input_A = keras.layers.Input(shape=[5], name=\"wide_input\")\n",
    "# input_B = keras.layers.Input(shape=[6], name=\"deep_input\")\n",
    "# hidden = keras.layers.Dense(30, activation=\"relu\")(input_B)\n",
    "# hidden = keras.layers.Dense(30, activation=\"relu\")(hidden)\n",
    "# concat = keras.layers.Concatenate()([input_A, hidden])\n",
    "# output = keras.layers.Dense(1)(concat)\n",
    "# model = keras.Model(inputs=[input_A, input_B], outputs=[output])\n",
    "\n",
    "# model.compile(loss=\"mean_squared_error\", optimizer=\"sgd\")\n",
    "\n",
    "# history = model.fit((X_train[:, :5], X_train[:, 2:]), y_train, epochs=20, validation_split=0.2)\n",
    "\n",
    "# mse_test = model.evaluate((X_test[:, :5], X_test[:, 2:]), y_test)\n",
    "\n",
    "# X_new = X_test[:3] #pretend these are new instances to do some testing\n",
    "# y_pred = model.predict((X_new[:, :5], X_new[:, 2:]))\n",
    "# print(y_test[:3], y_pred)"
   ]
  },
  {
   "cell_type": "code",
   "execution_count": null,
   "metadata": {},
   "outputs": [],
   "source": []
  }
 ],
 "metadata": {
  "kernelspec": {
   "display_name": "Python 3",
   "language": "python",
   "name": "python3"
  },
  "language_info": {
   "codemirror_mode": {
    "name": "ipython",
    "version": 3
   },
   "file_extension": ".py",
   "mimetype": "text/x-python",
   "name": "python",
   "nbconvert_exporter": "python",
   "pygments_lexer": "ipython3",
   "version": "3.7.0"
  }
 },
 "nbformat": 4,
 "nbformat_minor": 2
}
