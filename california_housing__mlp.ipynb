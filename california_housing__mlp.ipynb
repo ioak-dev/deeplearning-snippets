{
 "cells": [
  {
   "cell_type": "code",
   "execution_count": 1,
   "metadata": {},
   "outputs": [],
   "source": [
    "from sklearn.datasets import fetch_california_housing\n",
    "from sklearn.model_selection import train_test_split\n",
    "from sklearn.preprocessing import StandardScaler\n",
    "from tensorflow import keras"
   ]
  },
  {
   "cell_type": "code",
   "execution_count": 2,
   "metadata": {},
   "outputs": [],
   "source": [
    "housing = fetch_california_housing()\n",
    "X_train, X_test, y_train, y_test = train_test_split(housing.data, housing.target)"
   ]
  },
  {
   "cell_type": "code",
   "execution_count": 3,
   "metadata": {},
   "outputs": [],
   "source": [
    "scaler = StandardScaler()\n",
    "X_train = scaler.fit_transform(X_train)\n",
    "X_test = scaler.transform(X_test)"
   ]
  },
  {
   "cell_type": "code",
   "execution_count": 4,
   "metadata": {},
   "outputs": [],
   "source": [
    "model = keras.models.Sequential([\n",
    " keras.layers.Dense(30, activation=\"relu\", input_shape=X_train.shape[1:]),\n",
    "    keras.layers.Dense(1)\n",
    "])\n",
    "model.compile(loss=\"mean_squared_error\", optimizer=\"sgd\")"
   ]
  },
  {
   "cell_type": "code",
   "execution_count": 5,
   "metadata": {},
   "outputs": [
    {
     "name": "stdout",
     "output_type": "stream",
     "text": [
      "Train on 12384 samples, validate on 3096 samples\n",
      "Epoch 1/20\n",
      "12384/12384 [==============================] - 0s 39us/sample - loss: 2.0047 - val_loss: 1.1606\n",
      "Epoch 2/20\n",
      "12384/12384 [==============================] - 0s 25us/sample - loss: 0.8021 - val_loss: 0.9495\n",
      "Epoch 3/20\n",
      "12384/12384 [==============================] - 0s 25us/sample - loss: 0.7150 - val_loss: 0.8575\n",
      "Epoch 4/20\n",
      "12384/12384 [==============================] - 0s 23us/sample - loss: 0.6662 - val_loss: 0.7850\n",
      "Epoch 5/20\n",
      "12384/12384 [==============================] - 0s 23us/sample - loss: 0.6296 - val_loss: 0.7320\n",
      "Epoch 6/20\n",
      "12384/12384 [==============================] - 0s 23us/sample - loss: 0.6018 - val_loss: 0.6876\n",
      "Epoch 7/20\n",
      "12384/12384 [==============================] - 0s 23us/sample - loss: 0.5795 - val_loss: 0.6500\n",
      "Epoch 8/20\n",
      "12384/12384 [==============================] - 0s 23us/sample - loss: 0.5615 - val_loss: 0.6184\n",
      "Epoch 9/20\n",
      "12384/12384 [==============================] - 0s 23us/sample - loss: 0.5467 - val_loss: 0.5940\n",
      "Epoch 10/20\n",
      "12384/12384 [==============================] - 0s 23us/sample - loss: 0.5342 - val_loss: 0.5738\n",
      "Epoch 11/20\n",
      "12384/12384 [==============================] - 0s 23us/sample - loss: 0.5236 - val_loss: 0.5560\n",
      "Epoch 12/20\n",
      "12384/12384 [==============================] - 0s 23us/sample - loss: 0.5147 - val_loss: 0.5415\n",
      "Epoch 13/20\n",
      "12384/12384 [==============================] - 0s 23us/sample - loss: 0.5070 - val_loss: 0.5294\n",
      "Epoch 14/20\n",
      "12384/12384 [==============================] - 0s 23us/sample - loss: 0.5004 - val_loss: 0.5192\n",
      "Epoch 15/20\n",
      "12384/12384 [==============================] - 0s 24us/sample - loss: 0.4943 - val_loss: 0.5108\n",
      "Epoch 16/20\n",
      "12384/12384 [==============================] - 0s 23us/sample - loss: 0.4888 - val_loss: 0.5037\n",
      "Epoch 17/20\n",
      "12384/12384 [==============================] - 0s 23us/sample - loss: 0.4839 - val_loss: 0.4963\n",
      "Epoch 18/20\n",
      "12384/12384 [==============================] - 0s 23us/sample - loss: 0.4796 - val_loss: 0.4911\n",
      "Epoch 19/20\n",
      "12384/12384 [==============================] - 0s 24us/sample - loss: 0.4753 - val_loss: 0.4861\n",
      "Epoch 20/20\n",
      "12384/12384 [==============================] - 0s 23us/sample - loss: 0.4714 - val_loss: 0.4815\n"
     ]
    }
   ],
   "source": [
    "history = model.fit(X_train, y_train, epochs=20, validation_split=0.2)"
   ]
  },
  {
   "cell_type": "code",
   "execution_count": 6,
   "metadata": {},
   "outputs": [
    {
     "name": "stdout",
     "output_type": "stream",
     "text": [
      "5160/5160 [==============================] - 0s 15us/sample - loss: 0.4577\n"
     ]
    }
   ],
   "source": [
    "mse_test = model.evaluate(X_test, y_test)"
   ]
  },
  {
   "cell_type": "code",
   "execution_count": 11,
   "metadata": {},
   "outputs": [
    {
     "name": "stdout",
     "output_type": "stream",
     "text": [
      "[1.191 3.136 1.75 ] [[1.89838  ]\n",
      " [3.583376 ]\n",
      " [2.6489139]]\n"
     ]
    }
   ],
   "source": [
    "X_new = X_test[:3] #pretend these are new instances to do some testing\n",
    "y_pred = model.predict(X_new)\n",
    "print(y_test[:3], y_pred)"
   ]
  },
  {
   "cell_type": "code",
   "execution_count": null,
   "metadata": {},
   "outputs": [],
   "source": []
  }
 ],
 "metadata": {
  "kernelspec": {
   "display_name": "Python 3",
   "language": "python",
   "name": "python3"
  },
  "language_info": {
   "codemirror_mode": {
    "name": "ipython",
    "version": 3
   },
   "file_extension": ".py",
   "mimetype": "text/x-python",
   "name": "python",
   "nbconvert_exporter": "python",
   "pygments_lexer": "ipython3",
   "version": "3.7.0"
  }
 },
 "nbformat": 4,
 "nbformat_minor": 2
}
